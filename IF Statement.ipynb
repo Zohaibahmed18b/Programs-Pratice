{
 "cells": [
  {
   "cell_type": "code",
   "execution_count": 1,
   "metadata": {},
   "outputs": [],
   "source": [
    "#IF STATEMENT"
   ]
  },
  {
   "cell_type": "code",
   "execution_count": 3,
   "metadata": {},
   "outputs": [
    {
     "name": "stdout",
     "output_type": "stream",
     "text": [
      "you are male\n"
     ]
    }
   ],
   "source": [
    "#usng boolen operator\n",
    "is_male=True\n",
    "if is_male:\n",
    "    print(\"you are male\")"
   ]
  },
  {
   "cell_type": "code",
   "execution_count": null,
   "metadata": {},
   "outputs": [],
   "source": [
    "#IF CONDITION WITH (OR) AND (AND) operaters"
   ]
  },
  {
   "cell_type": "code",
   "execution_count": null,
   "metadata": {},
   "outputs": [],
   "source": [
    "#Difference Between And & or operater"
   ]
  },
  {
   "cell_type": "code",
   "execution_count": 7,
   "metadata": {},
   "outputs": [
    {
     "name": "stdout",
     "output_type": "stream",
     "text": [
      "you are not male neither tall\n"
     ]
    }
   ],
   "source": [
    "#if condition is false using(or)\n",
    "is_male=False\n",
    "is_tall=False\n",
    "if is_male or is_tall:\n",
    "    print('you are male and also tall or both')\n",
    "else:\n",
    "    print('you are not male neither tall')"
   ]
  },
  {
   "cell_type": "code",
   "execution_count": 11,
   "metadata": {},
   "outputs": [
    {
     "name": "stdout",
     "output_type": "stream",
     "text": [
      "you are not male neither tall\n"
     ]
    }
   ],
   "source": [
    "#if condition is true using (or)\n",
    "is_male=True\n",
    "is_tall=True\n",
    "if is_male or is_tall:\n",
    "    print('you are male and also tall or both')\n",
    "else:\n",
    "    print('you are not male neither tall')"
   ]
  },
  {
   "cell_type": "code",
   "execution_count": 14,
   "metadata": {},
   "outputs": [
    {
     "name": "stdout",
     "output_type": "stream",
     "text": [
      "you are tall male\n"
     ]
    }
   ],
   "source": [
    "#if both condition are true using (and)\n",
    "is_male=True\n",
    "is_tall=True\n",
    "if is_male and is_tall:\n",
    "    print('you are tall male')\n",
    "else:\n",
    "    print('you are not tall male')"
   ]
  },
  {
   "cell_type": "code",
   "execution_count": 15,
   "metadata": {},
   "outputs": [
    {
     "name": "stdout",
     "output_type": "stream",
     "text": [
      "you are not tall male\n"
     ]
    }
   ],
   "source": [
    "#if one condition is true and other is false using (and)\n",
    "is_male=True\n",
    "is_tall=False\n",
    "if is_male and is_tall:\n",
    "    print('you are tall male')\n",
    "else:\n",
    "    print('you are not tall male')"
   ]
  },
  {
   "cell_type": "code",
   "execution_count": 18,
   "metadata": {},
   "outputs": [
    {
     "name": "stdout",
     "output_type": "stream",
     "text": [
      "you are short male\n"
     ]
    }
   ],
   "source": [
    "# one condition is true 7 other is false in (if) statement by using and & not operators\n",
    "\n",
    "is_male=True\n",
    "is_tall=False\n",
    "\n",
    "if is_male and is_tall:\n",
    "    print('you are tall male')\n",
    "\n",
    "elif is_male and not(is_tall):\n",
    "    print('you are short male')\n",
    "\n",
    "elif is_tall and not(is_male):\n",
    "    print('you are tall but not male')\n",
    "\n",
    "else:\n",
    "    print('you are not tall male')"
   ]
  }
 ],
 "metadata": {
  "kernelspec": {
   "display_name": "Python 3",
   "language": "python",
   "name": "python3"
  },
  "language_info": {
   "codemirror_mode": {
    "name": "ipython",
    "version": 3
   },
   "file_extension": ".py",
   "mimetype": "text/x-python",
   "name": "python",
   "nbconvert_exporter": "python",
   "pygments_lexer": "ipython3",
   "version": "3.6.5"
  }
 },
 "nbformat": 4,
 "nbformat_minor": 2
}
