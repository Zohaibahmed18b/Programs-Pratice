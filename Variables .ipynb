{
 "cells": [
  {
   "cell_type": "code",
   "execution_count": 13,
   "metadata": {},
   "outputs": [
    {
     "name": "stdout",
     "output_type": "stream",
     "text": [
      "There once was a legand named Mubashir\n",
      "He was 25 year old\n",
      "He really liked name as Salman\n",
      "He didn't like being 25\n"
     ]
    }
   ],
   "source": [
    "character_name='Mubashir'\n",
    "age='25'\n",
    "\n",
    "print('There once was a legand named '+character_name)\n",
    "print('He was '+age+' year old')\n",
    "\n",
    "character_name='Salman'\n",
    "\n",
    "print('He really liked name as '+character_name)\n",
    "print(\"He didn't like being \"+age)"
   ]
  },
  {
   "cell_type": "code",
   "execution_count": 15,
   "metadata": {},
   "outputs": [
    {
     "name": "stdout",
     "output_type": "stream",
     "text": [
      "The founder of Microsoft company is Bill Gates\n"
     ]
    }
   ],
   "source": [
    "first_name='Bill'\n",
    "\n",
    "last_name='Gates'\n",
    "\n",
    "print(\"The founder of Microsoft company is \"+first_name+\" \"+last_name)\n"
   ]
  },
  {
   "cell_type": "code",
   "execution_count": 21,
   "metadata": {},
   "outputs": [
    {
     "name": "stdout",
     "output_type": "stream",
     "text": [
      "My Samsung Phone Battery is 4%\n"
     ]
    }
   ],
   "source": [
    "Phone='Samsung'\n",
    "battery='4'\n",
    "print(\"My \"+Phone+\" Phone Battery is \"+battery+\"%\")"
   ]
  },
  {
   "cell_type": "code",
   "execution_count": null,
   "metadata": {},
   "outputs": [],
   "source": []
  }
 ],
 "metadata": {
  "kernelspec": {
   "display_name": "Python 3",
   "language": "python",
   "name": "python3"
  },
  "language_info": {
   "codemirror_mode": {
    "name": "ipython",
    "version": 3
   },
   "file_extension": ".py",
   "mimetype": "text/x-python",
   "name": "python",
   "nbconvert_exporter": "python",
   "pygments_lexer": "ipython3",
   "version": "3.6.5"
  }
 },
 "nbformat": 4,
 "nbformat_minor": 2
}
