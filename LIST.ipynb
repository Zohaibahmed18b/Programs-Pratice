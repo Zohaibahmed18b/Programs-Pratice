{
 "cells": [
  {
   "cell_type": "code",
   "execution_count": null,
   "metadata": {},
   "outputs": [],
   "source": [
    "LISTS IN PYTHON"
   ]
  },
  {
   "cell_type": "code",
   "execution_count": 2,
   "metadata": {},
   "outputs": [
    {
     "name": "stdout",
     "output_type": "stream",
     "text": [
      "['Apple', 'Orange', 'Graps', 'Banana', 'Grapefruit']\n"
     ]
    }
   ],
   "source": [
    "#Printing List in python\n",
    "fruits=['Apple','Orange','Graps','Banana','Grapefruit']\n",
    "\n",
    "print(fruits)"
   ]
  },
  {
   "cell_type": "code",
   "execution_count": 4,
   "metadata": {},
   "outputs": [
    {
     "name": "stdout",
     "output_type": "stream",
     "text": [
      "Banana\n"
     ]
    }
   ],
   "source": [
    "#printing Specific item from list by indexing\n",
    "\n",
    "fruits=['Apple','Orange','Graps','Banana','Grapefruit']\n",
    "#index    0       1         2       3            4\n",
    "\n",
    "print(fruits[3])\n"
   ]
  },
  {
   "cell_type": "code",
   "execution_count": 5,
   "metadata": {},
   "outputs": [
    {
     "name": "stdout",
     "output_type": "stream",
     "text": [
      "Orange\n"
     ]
    }
   ],
   "source": [
    "fruits=['Apple','Orange','Graps','Banana','Grapefruit']\n",
    "#index    0       1         2       3            4\n",
    "\n",
    "print(fruits[1])"
   ]
  },
  {
   "cell_type": "code",
   "execution_count": 7,
   "metadata": {},
   "outputs": [
    {
     "name": "stdout",
     "output_type": "stream",
     "text": [
      "Graps\n"
     ]
    }
   ],
   "source": [
    "#printing specfic item from list by indexing last item (reverse order)\n",
    "\n",
    "fruits=['Apple','Orange','Graps','Banana','Grapefruit']\n",
    "#index    -5       -4         -3       -2            -1\n",
    "\n",
    "print(fruits[-3])\n"
   ]
  },
  {
   "cell_type": "code",
   "execution_count": 8,
   "metadata": {},
   "outputs": [
    {
     "name": "stdout",
     "output_type": "stream",
     "text": [
      "Apple\n"
     ]
    }
   ],
   "source": [
    "fruits=['Apple','Orange','Graps','Banana','Grapefruit']\n",
    "#index    -5       -4         -3       -2            -1\n",
    "\n",
    "print(fruits[-5])"
   ]
  },
  {
   "cell_type": "code",
   "execution_count": 12,
   "metadata": {},
   "outputs": [
    {
     "name": "stdout",
     "output_type": "stream",
     "text": [
      "['Orange', 'Graps', 'Banana']\n"
     ]
    }
   ],
   "source": [
    "#printing Specfic items form list by Range\n",
    "\n",
    "fruits=['Apple','Orange','Graps','Banana','Grapefruit']\n",
    "#index    0       1         2       3            4\n",
    "\n",
    "print(fruits[1:4])"
   ]
  },
  {
   "cell_type": "code",
   "execution_count": 16,
   "metadata": {},
   "outputs": [
    {
     "name": "stdout",
     "output_type": "stream",
     "text": [
      "Gurava is Updated on index no 3\n",
      "['Apple', 'Orange', 'Graps', 'Gurava', 'Grapefruit']\n"
     ]
    }
   ],
   "source": [
    "#Updating the list\n",
    "\n",
    "fruits=['Apple','Orange','Graps','Banana','Grapefruit']\n",
    "#index    0       1         2       3            4\n",
    "\n",
    "fruits[3]='Gurava'\n",
    "\n",
    "print(fruits[3],\"is Updated on index no 3\" )\n",
    "print(fruits)"
   ]
  },
  {
   "cell_type": "code",
   "execution_count": null,
   "metadata": {},
   "outputs": [],
   "source": []
  }
 ],
 "metadata": {
  "kernelspec": {
   "display_name": "Python 3",
   "language": "python",
   "name": "python3"
  },
  "language_info": {
   "codemirror_mode": {
    "name": "ipython",
    "version": 3
   },
   "file_extension": ".py",
   "mimetype": "text/x-python",
   "name": "python",
   "nbconvert_exporter": "python",
   "pygments_lexer": "ipython3",
   "version": "3.6.5"
  }
 },
 "nbformat": 4,
 "nbformat_minor": 2
}
