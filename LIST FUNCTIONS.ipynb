{
 "cells": [
  {
   "cell_type": "code",
   "execution_count": null,
   "metadata": {},
   "outputs": [],
   "source": [
    "LIST FUNCTIONS"
   ]
  },
  {
   "cell_type": "code",
   "execution_count": 1,
   "metadata": {},
   "outputs": [
    {
     "name": "stdout",
     "output_type": "stream",
     "text": [
      "['A', 'B', 'C', 'D', 'E', 1, 2, 3, 4, 5]\n"
     ]
    }
   ],
   "source": [
    "#Adding list Together by extend function\n",
    "\n",
    "list_1=[1,2,3,4,5]\n",
    "list_2=['A','B','C','D','E']\n",
    "\n",
    "list_2.extend(list_1)\n",
    "print(list_2)"
   ]
  },
  {
   "cell_type": "code",
   "execution_count": 3,
   "metadata": {},
   "outputs": [
    {
     "name": "stdout",
     "output_type": "stream",
     "text": [
      "['Shampoo', 'knife', 'Glasses', 'Iron', 'Blanket']\n",
      "['Shampoo', 'knife', 'Glasses', 'Iron', 'Blanket', 'shoes']\n"
     ]
    }
   ],
   "source": [
    "#Adding Item in list by append function\n",
    "\n",
    "shopping_list=['Shampoo','knife','Glasses','Iron','Blanket']\n",
    "\n",
    "print(shopping_list)\n",
    "\n",
    "shopping_list.append('shoes')\n",
    "\n",
    "print(shopping_list)"
   ]
  },
  {
   "cell_type": "code",
   "execution_count": 7,
   "metadata": {},
   "outputs": [
    {
     "name": "stdout",
     "output_type": "stream",
     "text": [
      "['HP', 'SONY', 'DELL']\n",
      "['HP', 'SONY', 'DANY', 'DELL']\n"
     ]
    }
   ],
   "source": [
    "#Adding items in list accding to index by insert function\n",
    "\n",
    "add_item=['HP','SONY','DELL']\n",
    "\n",
    "print(add_item)\n",
    "\n",
    "add_item.insert(2,'DANY')\n",
    "\n",
    "print(add_item)\n",
    "\n"
   ]
  },
  {
   "cell_type": "code",
   "execution_count": 13,
   "metadata": {},
   "outputs": [
    {
     "name": "stdout",
     "output_type": "stream",
     "text": [
      "['England', 'Canada', 'Maxico', 'France']\n",
      "['England', 'Canada', 'France']\n"
     ]
    }
   ],
   "source": [
    "#Remove items from list by remove function\n",
    "\n",
    "country_names=['England','Canada','Maxico','France']\n",
    "\n",
    "print(country_names)\n",
    "\n",
    "country_names.remove('Maxico')\n",
    "\n",
    "print(country_names)"
   ]
  },
  {
   "cell_type": "code",
   "execution_count": 16,
   "metadata": {},
   "outputs": [
    {
     "name": "stdout",
     "output_type": "stream",
     "text": [
      "['Matorola', 'Samsung', 'Qmobile', 'Itel']\n",
      "[]\n"
     ]
    }
   ],
   "source": [
    "#Making MT list (empty) by clear function\n",
    "\n",
    "phones_names=['Matorola','Samsung','Qmobile','Itel']\n",
    "\n",
    "print(phones_names)\n",
    "\n",
    "phones_names.clear()\n",
    "\n",
    "print(phones_names)"
   ]
  },
  {
   "cell_type": "code",
   "execution_count": 17,
   "metadata": {},
   "outputs": [
    {
     "name": "stdout",
     "output_type": "stream",
     "text": [
      "['ferrari', 'corolla', 'Audi', 'Suzuki']\n",
      "['ferrari', 'corolla', 'Audi']\n"
     ]
    }
   ],
   "source": [
    "#Removing Last item from list by using pop function\n",
    "\n",
    "cars_names=['ferrari','corolla','Audi','Suzuki']\n",
    "\n",
    "print(cars_names)\n",
    "\n",
    "cars_names.pop()\n",
    "\n",
    "print(cars_names)"
   ]
  },
  {
   "cell_type": "code",
   "execution_count": 21,
   "metadata": {},
   "outputs": [
    {
     "name": "stdout",
     "output_type": "stream",
     "text": [
      "['Triangle', 'Square', 'Circle', 'oval']\n",
      "2 is index no\n"
     ]
    }
   ],
   "source": [
    "#checking list item index \n",
    "\n",
    "Shapes=['Triangle','Square','Circle','oval']\n",
    "\n",
    "print(Shapes)\n",
    "\n",
    "print(Shapes.index('Circle'),\"is index no\")"
   ]
  },
  {
   "cell_type": "code",
   "execution_count": 24,
   "metadata": {},
   "outputs": [
    {
     "name": "stdout",
     "output_type": "stream",
     "text": [
      "['Software', 'power', 'computer Science', 'power', 'Metallurgy', 'power']\n",
      "3\n"
     ]
    }
   ],
   "source": [
    "#check repeating items in list by using count function\n",
    "\n",
    "dept_names=['Software','power','computer Science','power','Metallurgy','power']\n",
    "\n",
    "print(dept_names)\n",
    "\n",
    "print(dept_names.count('power'))"
   ]
  },
  {
   "cell_type": "code",
   "execution_count": 26,
   "metadata": {},
   "outputs": [
    {
     "name": "stdout",
     "output_type": "stream",
     "text": [
      "['Pencil', 'Rubber', 'Shopner', 'Scale', 'Toys', 'Bat', 'Ball']\n",
      "['Ball', 'Bat', 'Pencil', 'Rubber', 'Scale', 'Shopner', 'Toys']\n"
     ]
    }
   ],
   "source": [
    "#sorting the list in Accending order by using sort function\n",
    "\n",
    "Stationary=['Pencil','Rubber','Shopner','Scale','Toys','Bat','Ball']\n",
    "\n",
    "print(Stationary)\n",
    "\n",
    "Stationary.sort()\n",
    "\n",
    "print(Stationary)\n"
   ]
  },
  {
   "cell_type": "code",
   "execution_count": 27,
   "metadata": {},
   "outputs": [
    {
     "name": "stdout",
     "output_type": "stream",
     "text": [
      "[5, 6, 88, 5, 33, 66, 4, 2, 1, 55, 8, 99, 77, 3, 66]\n",
      "[1, 2, 3, 4, 5, 5, 6, 8, 33, 55, 66, 66, 77, 88, 99]\n"
     ]
    }
   ],
   "source": [
    "#sorting the number list\n",
    "\n",
    "lucky_number=[5,6,88,5,33,66,4,2,1,55,8,99,77,3,66]\n",
    "\n",
    "print(lucky_number)\n",
    "\n",
    "lucky_number.sort()\n",
    "\n",
    "print(lucky_number)"
   ]
  },
  {
   "cell_type": "code",
   "execution_count": 28,
   "metadata": {},
   "outputs": [
    {
     "name": "stdout",
     "output_type": "stream",
     "text": [
      "[2, 4, 6, 8, 10, 12, 14, 16, 18, 20]\n",
      "[20, 18, 16, 14, 12, 10, 8, 6, 4, 2]\n"
     ]
    }
   ],
   "source": [
    "#sorting list in reverse order\n",
    "\n",
    "lucky_number=[2,4,6,8,10,12,14,16,18,20]\n",
    "\n",
    "print(lucky_number)\n",
    "\n",
    "lucky_number.reverse()\n",
    "\n",
    "print(lucky_number)\n"
   ]
  },
  {
   "cell_type": "code",
   "execution_count": 29,
   "metadata": {},
   "outputs": [
    {
     "name": "stdout",
     "output_type": "stream",
     "text": [
      "['billu', 'gulli', 'Monu', 'sonu']\n"
     ]
    }
   ],
   "source": [
    "#copying in list by using copy function\n",
    "\n",
    "friend_1=['billu','gulli','Monu','sonu']\n",
    "\n",
    "friend_2=friend_1.copy()\n",
    "\n",
    "print(friend_2)"
   ]
  },
  {
   "cell_type": "code",
   "execution_count": null,
   "metadata": {},
   "outputs": [],
   "source": []
  }
 ],
 "metadata": {
  "kernelspec": {
   "display_name": "Python 3",
   "language": "python",
   "name": "python3"
  },
  "language_info": {
   "codemirror_mode": {
    "name": "ipython",
    "version": 3
   },
   "file_extension": ".py",
   "mimetype": "text/x-python",
   "name": "python",
   "nbconvert_exporter": "python",
   "pygments_lexer": "ipython3",
   "version": "3.6.5"
  }
 },
 "nbformat": 4,
 "nbformat_minor": 2
}
