{
 "cells": [
  {
   "cell_type": "code",
   "execution_count": null,
   "metadata": {},
   "outputs": [],
   "source": [
    "MAD LIBS GAME IN PYTHON"
   ]
  },
  {
   "cell_type": "code",
   "execution_count": 2,
   "metadata": {},
   "outputs": [
    {
     "name": "stdout",
     "output_type": "stream",
     "text": [
      "Enter your Favorite Color :Pink\n",
      "Enter a Plural Noun :They\n",
      "Enter a celebrity :PAKISTAN\n",
      "Roses are Pink\n",
      "They are Blue\n",
      "I love PAKISTAN\n"
     ]
    }
   ],
   "source": [
    "color=input(\"Enter your Favorite Color :\")\n",
    "plural_noun=input(\"Enter a Plural Noun :\")\n",
    "celebrity=input(\"Enter a celebrity :\")\n",
    "\n",
    "print(\"Roses are\",color)\n",
    "print(plural_noun,'are Blue')\n",
    "print(\"I love\",celebrity)"
   ]
  },
  {
   "cell_type": "code",
   "execution_count": null,
   "metadata": {},
   "outputs": [],
   "source": []
  }
 ],
 "metadata": {
  "kernelspec": {
   "display_name": "Python 3",
   "language": "python",
   "name": "python3"
  },
  "language_info": {
   "codemirror_mode": {
    "name": "ipython",
    "version": 3
   },
   "file_extension": ".py",
   "mimetype": "text/x-python",
   "name": "python",
   "nbconvert_exporter": "python",
   "pygments_lexer": "ipython3",
   "version": "3.6.5"
  }
 },
 "nbformat": 4,
 "nbformat_minor": 2
}
