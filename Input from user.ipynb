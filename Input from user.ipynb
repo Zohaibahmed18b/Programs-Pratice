{
 "cells": [
  {
   "cell_type": "code",
   "execution_count": null,
   "metadata": {},
   "outputs": [],
   "source": [
    "\"HOW TO GET INPUT FROM USER IN PYTHON\""
   ]
  },
  {
   "cell_type": "code",
   "execution_count": 2,
   "metadata": {},
   "outputs": [
    {
     "name": "stdout",
     "output_type": "stream",
     "text": [
      "ENTER YOUR NAME :DELL\n",
      "hello DELL\n"
     ]
    }
   ],
   "source": [
    "#GETTING INPUT FROM USER\n",
    "\n",
    "name=input(\"ENTER YOUR NAME :\")\n",
    "print(\"hello\",name)"
   ]
  },
  {
   "cell_type": "code",
   "execution_count": 6,
   "metadata": {},
   "outputs": [
    {
     "name": "stdout",
     "output_type": "stream",
     "text": [
      "Enter Your name:John\n",
      "Enter your Father Name :Dayz\n",
      "enter you age:21\n",
      "Hello John s/o Dayz you are 21 year old\n"
     ]
    }
   ],
   "source": [
    "#Getting Multi input from user\n",
    "\n",
    "name=input(\"Enter Your name:\")\n",
    "f_name=input(\"Enter your Father Name :\")\n",
    "Age=input(\"enter you age:\")\n",
    "print('Hello '+name,'s/o '+f_name,'you are',Age,'year old')"
   ]
  },
  {
   "cell_type": "code",
   "execution_count": null,
   "metadata": {},
   "outputs": [],
   "source": []
  }
 ],
 "metadata": {
  "kernelspec": {
   "display_name": "Python 3",
   "language": "python",
   "name": "python3"
  },
  "language_info": {
   "codemirror_mode": {
    "name": "ipython",
    "version": 3
   },
   "file_extension": ".py",
   "mimetype": "text/x-python",
   "name": "python",
   "nbconvert_exporter": "python",
   "pygments_lexer": "ipython3",
   "version": "3.6.5"
  }
 },
 "nbformat": 4,
 "nbformat_minor": 2
}
