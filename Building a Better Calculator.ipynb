{
 "cells": [
  {
   "cell_type": "code",
   "execution_count": 1,
   "metadata": {},
   "outputs": [
    {
     "name": "stdout",
     "output_type": "stream",
     "text": [
      "Enter 1st Number :5\n",
      "Enter operator-\n",
      "Enter 2nd Number :2\n",
      "3.0\n"
     ]
    }
   ],
   "source": [
    "num1=float(input('Enter 1st Number :'))\n",
    "op=input('Enter operator :')\n",
    "num2=float(input('Enter 2nd Number :'))\n",
    "\n",
    "if op == '+':\n",
    "    print(num1 +num20)\n",
    "elif op == '-':\n",
    "    print(num1 - num2)\n",
    "elif op == '*':\n",
    "    print(num1 * num2)\n",
    "elif op =='/':\n",
    "    print(num1 / num2)\n",
    "else:\n",
    "    print('Please enter Right Operator')"
   ]
  },
  {
   "cell_type": "code",
   "execution_count": 7,
   "metadata": {},
   "outputs": [
    {
     "name": "stdout",
     "output_type": "stream",
     "text": [
      "8\n"
     ]
    }
   ],
   "source": [
    "#Calculator in Function\n",
    "\n",
    "def cal(num1,op,num2):\n",
    "    if op == '+':\n",
    "        print(num1 +num2)\n",
    "    elif op == '-':\n",
    "        print(num1 - num2)\n",
    "    elif op == '*':\n",
    "        print(num1 * num2)\n",
    "    elif op =='/':\n",
    "        print(num1 / num2)\n",
    "    else:\n",
    "        print('Invalid Operator')\n",
    "cal(6,'+',2)"
   ]
  },
  {
   "cell_type": "code",
   "execution_count": null,
   "metadata": {},
   "outputs": [],
   "source": []
  }
 ],
 "metadata": {
  "kernelspec": {
   "display_name": "Python 3",
   "language": "python",
   "name": "python3"
  },
  "language_info": {
   "codemirror_mode": {
    "name": "ipython",
    "version": 3
   },
   "file_extension": ".py",
   "mimetype": "text/x-python",
   "name": "python",
   "nbconvert_exporter": "python",
   "pygments_lexer": "ipython3",
   "version": "3.6.5"
  }
 },
 "nbformat": 4,
 "nbformat_minor": 2
}
